{
 "cells": [
  {
   "cell_type": "markdown",
   "id": "d61cb27d",
   "metadata": {},
   "source": [
    "## NY Times API"
   ]
  },
  {
   "cell_type": "code",
   "execution_count": 1,
   "id": "69561d37",
   "metadata": {},
   "outputs": [],
   "source": [
    "# Dependencies\n",
    "import requests\n",
    "from pprint import pprint\n",
    "from config import nyt_key"
   ]
  },
  {
   "cell_type": "code",
   "execution_count": 3,
   "id": "34a73836",
   "metadata": {},
   "outputs": [],
   "source": [
    "# Define url\n",
    "url = "
   ]
  },
  {
   "cell_type": "code",
   "execution_count": 12,
   "id": "42f98d59",
   "metadata": {},
   "outputs": [],
   "source": [
    "# Define query\n",
    "query = "
   ]
  },
  {
   "cell_type": "code",
   "execution_count": 11,
   "id": "55b6ea63",
   "metadata": {},
   "outputs": [
    {
     "name": "stdout",
     "output_type": "stream",
     "text": [
      "{'status': 'ERROR', 'copyright': 'Copyright (c) 2021 The New York Times Company.  All Rights Reserved.', 'errors': ['No Parameters specified\\n', 'Bad Request'], 'results': []}\n"
     ]
    }
   ],
   "source": [
    "# Build the query URL\n",
    "query_url = \n",
    "\n",
    "# Request List\n",
    "list = requests.get(query_url).json()\n",
    "print(list)"
   ]
  },
  {
   "cell_type": "code",
   "execution_count": null,
   "id": "0958fbd8",
   "metadata": {},
   "outputs": [],
   "source": []
  }
 ],
 "metadata": {
  "kernelspec": {
   "display_name": "Python 3",
   "language": "python",
   "name": "python3"
  },
  "language_info": {
   "codemirror_mode": {
    "name": "ipython",
    "version": 3
   },
   "file_extension": ".py",
   "mimetype": "text/x-python",
   "name": "python",
   "nbconvert_exporter": "python",
   "pygments_lexer": "ipython3",
   "version": "3.8.8"
  }
 },
 "nbformat": 4,
 "nbformat_minor": 5
}
